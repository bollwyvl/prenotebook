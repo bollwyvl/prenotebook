{
 "cells": [
  {
   "cell_type": "code",
   "execution_count": 6,
   "metadata": {},
   "outputs": [
    {
     "name": "stdout",
     "output_type": "stream",
     "text": [
      "Usage: __main__.py [OPTIONS] COMMAND [ARGS]...\n",
      "\n",
      "Options:\n",
      "  --help  Show this message and exit.\n",
      "\n",
      "Commands:\n",
      "  blacken\n",
      "  isort\n",
      "  strip-execution-count\n",
      "  strip-outputs\n"
     ]
    }
   ],
   "source": [
    "    !python -m prenotebook --help"
   ]
  },
  {
   "cell_type": "markdown",
   "metadata": {},
   "source": [
    "    !pip install pre-commit"
   ]
  },
  {
   "cell_type": "code",
   "execution_count": 24,
   "metadata": {},
   "outputs": [
    {
     "name": "stdout",
     "output_type": "stream",
     "text": [
      "[INFO]\u001b[0m Initializing environment for https://github.com/deathbeds/prenotebook.\n",
      "An error has occurred: InvalidManifestError: \n",
      "=====> /Users/tonyfast/.cache/pre-commit/reporq29yolu/.pre-commit-hooks.yaml does not exist\n",
      "Check the log at /Users/tonyfast/.cache/pre-commit/pre-commit.log\n"
     ]
    }
   ],
   "source": [
    "    !pre-commit"
   ]
  },
  {
   "cell_type": "code",
   "execution_count": 23,
   "metadata": {},
   "outputs": [
    {
     "name": "stdout",
     "output_type": "stream",
     "text": [
      "Overwriting .pre-commit-config.yaml\n"
     ]
    }
   ],
   "source": [
    "    %%file .pre-commit-config.yaml\n",
    "    - repo: https://github.com/deathbeds/prenotebook\n",
    "      rev: 2643c9d\n",
    "      hooks:\n",
    "      - id: strip-outputs\n",
    "      - id: strip-execution-count\n",
    "      - id: blacken\n",
    "      - id: isort"
   ]
  },
  {
   "cell_type": "code",
   "execution_count": 20,
   "metadata": {},
   "outputs": [
    {
     "name": "stdout",
     "output_type": "stream",
     "text": [
      "Overwriting .pre-commit-hooks.yaml\n"
     ]
    }
   ],
   "source": [
    "    %%file .pre-commit-hooks.yaml\n",
    "    - id: strip-outputs\n",
    "      entry: python -m prenotebook strip-outputs\n",
    "    - id: strip-execution-count\n",
    "      entry: python -m prenotebook strip-execution-count\n",
    "    - id: blacken\n",
    "      entry: python -m prenotebook blacken\n",
    "    - id: isort\n",
    "      entry: python -m prenotebook blacken"
   ]
  },
  {
   "cell_type": "code",
   "execution_count": null,
   "metadata": {},
   "outputs": [],
   "source": []
  }
 ],
 "metadata": {
  "kernelspec": {
   "display_name": "Python 3",
   "language": "python",
   "name": "python3"
  },
  "language_info": {
   "codemirror_mode": {
    "name": "ipython",
    "version": 3
   },
   "file_extension": ".py",
   "mimetype": "text/x-python",
   "name": "python",
   "nbconvert_exporter": "python",
   "pygments_lexer": "ipython3",
   "version": "3.7.3"
  }
 },
 "nbformat": 4,
 "nbformat_minor": 4
}
