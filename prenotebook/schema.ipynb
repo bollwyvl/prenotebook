{
 "cells": [
  {
   "cell_type": "code",
   "execution_count": 1,
   "metadata": {},
   "outputs": [],
   "source": [
    "    import pathlib, nbconvert, json, pydantic, __main__\n",
    "    import itertools\n",
    "    import enum, typing, click, json, contextlib, io"
   ]
  },
  {
   "cell_type": "code",
   "execution_count": 2,
   "metadata": {},
   "outputs": [],
   "source": [
    "    class Stages(str, enum.Enum): \n",
    "        commit = 'commit'\n",
    "        merge_commit = 'merge-commit'\n",
    "        push = 'push'\n",
    "        prepare_commit_msg = 'prepare-commit-msg'\n",
    "        commit_msg = 'commit-msg'\n",
    "        manual = 'manual'"
   ]
  },
  {
   "cell_type": "code",
   "execution_count": 3,
   "metadata": {},
   "outputs": [],
   "source": [
    "    class Entry(pydantic.BaseModel):\n",
    "        id: str\n",
    "        description: typing.Optional[str]\n",
    "        alias: typing.Optional[str]\n",
    "        name: typing.Optional[str]\n",
    "        language_version: typing.Optional[str]\n",
    "        files: typing.Optional[typing.Pattern]\n",
    "        exclude: typing.Optional[typing.Pattern]\n",
    "        types: typing.Optional[typing.List[str]]\n",
    "        exclude_types: typing.Optional[typing.List[str]]\n",
    "        args: typing.Optional[typing.List[str]]\n",
    "        stages: typing.Optional[Stages]\n",
    "        additional_dependencies: typing.Optional[Stages]\n",
    "        always_run: typing.Optional[bool]\n",
    "        verbose: typing.Optional[bool]\n",
    "        log_file: typing.Optional[pydantic.FilePath]\n",
    "\n"
   ]
  },
  {
   "cell_type": "code",
   "execution_count": 4,
   "metadata": {},
   "outputs": [],
   "source": [
    "    class Precommit(pydantic.BaseModel):\n",
    "        entries: typing.List[Entry] = []\n",
    "    precommits = Precommit()"
   ]
  },
  {
   "cell_type": "code",
   "execution_count": null,
   "metadata": {},
   "outputs": [],
   "source": []
  }
 ],
 "metadata": {
  "kernelspec": {
   "display_name": "Python 3",
   "language": "python",
   "name": "python3"
  },
  "language_info": {
   "codemirror_mode": {
    "name": "ipython",
    "version": 3
   },
   "file_extension": ".py",
   "mimetype": "text/x-python",
   "name": "python",
   "nbconvert_exporter": "python",
   "pygments_lexer": "ipython3",
   "version": "3.7.3"
  }
 },
 "nbformat": 4,
 "nbformat_minor": 4
}
