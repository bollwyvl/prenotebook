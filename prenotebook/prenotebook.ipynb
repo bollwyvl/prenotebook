{
 "cells": [
  {
   "cell_type": "code",
   "execution_count": 67,
   "metadata": {},
   "outputs": [],
   "source": [
    "    with __import__('importnb').Notebook():\n",
    "        try: from . import schema\n",
    "        except: import schema\n",
    "    import pathlib, nbconvert, json, pydantic, __main__\n",
    "    import httpx\n",
    "    import yaml\n",
    "    import itertools\n",
    "    import enum, typing, click, json, contextlib, io"
   ]
  },
  {
   "cell_type": "code",
   "execution_count": 38,
   "metadata": {},
   "outputs": [],
   "source": [
    "    @click.group()\n",
    "    def cli(): ..."
   ]
  },
  {
   "cell_type": "code",
   "execution_count": 71,
   "metadata": {},
   "outputs": [],
   "source": [
    "    @cli.command()\n",
    "    def strip_outputs():\n",
    "        global nb\n",
    "        for file in pathlib.Path().rglob('*.ipynb'):\n",
    "            nb, changed = json.loads(file.read_text()), False\n",
    "            for cell in nb['cells']:\n",
    "                if 'outputs' in cell and cell['outputs']:\n",
    "                    cell['outputs'] = []\n",
    "                    changed = True\n",
    "            else: changed and file.write_text(json.dumps(nb))\n",
    "                \n",
    "        return 0"
   ]
  },
  {
   "cell_type": "code",
   "execution_count": 72,
   "metadata": {},
   "outputs": [],
   "source": [
    "    @cli.command()\n",
    "    def strip_execution_count():\n",
    "        global nb\n",
    "        for file in pathlib.Path().rglob('*.ipynb'):\n",
    "            nb, changed = json.loads(file.read_text()), False\n",
    "            for cell in nb['cells']:\n",
    "                if 'execution_count' in cell and cell['execution_count'] is not None:\n",
    "                    cell['execution_count'] = None\n",
    "                    changed = True\n",
    "            else: changed and file.write_text(json.dumps(nb))\n",
    "        return 0"
   ]
  },
  {
   "cell_type": "code",
   "execution_count": 74,
   "metadata": {},
   "outputs": [],
   "source": [
    "    @cli.command()\n",
    "    def blacken(length=88):\n",
    "        import black\n",
    "        blacken = lambda x: black.format_str(x, black.FileMode(line_length=length))\n",
    "        for file in pathlib.Path().rglob('*.ipynb'):\n",
    "            nb, changed = json.loads(file.read_text()), False\n",
    "            for cell in nb['cells']:\n",
    "                if cell['cell_type'] == 'cell':\n",
    "                    before = cell['source']\n",
    "                    try:\n",
    "                        cell['source'] = blacken(''.join(before))\n",
    "                        if isinstance(before, list):\n",
    "                            cell['source'] = cell['source'].splitlines(True)\n",
    "                        if cell['source'] != before: changed = True\n",
    "                    except: ...\n",
    "            else: changed and file.write_text(json.dumps(nb))\n",
    "        return 0"
   ]
  },
  {
   "cell_type": "code",
   "execution_count": 81,
   "metadata": {},
   "outputs": [],
   "source": [
    "    @cli.command()\n",
    "    def isort(length=88):\n",
    "        import isort\n",
    "        for file in pathlib.Path().rglob('*.ipynb'):\n",
    "            nb, changed = json.loads(file.read_text()), False\n",
    "            for cell in nb['cells']:\n",
    "                if cell['cell_type'] == 'cell':\n",
    "                    before = cell['source']\n",
    "                    try:\n",
    "                        cell['source'] = isort.SortImports(file_contents=''.join(before)).output\n",
    "                        if isinstance(before, list):\n",
    "                            cell['source'] = cell['source'].splitlines(True)\n",
    "                        if cell['source'] != before: changed = True\n",
    "                    except: ...\n",
    "            else: changed and file.write_text(json.dumps(nb))\n",
    "        return 0"
   ]
  }
 ],
 "metadata": {
  "kernelspec": {
   "display_name": "Python 3",
   "language": "python",
   "name": "python3"
  },
  "language_info": {
   "codemirror_mode": {
    "name": "ipython",
    "version": 3
   },
   "file_extension": ".py",
   "mimetype": "text/x-python",
   "name": "python",
   "nbconvert_exporter": "python",
   "pygments_lexer": "ipython3",
   "version": "3.7.3"
  }
 },
 "nbformat": 4,
 "nbformat_minor": 4
}
